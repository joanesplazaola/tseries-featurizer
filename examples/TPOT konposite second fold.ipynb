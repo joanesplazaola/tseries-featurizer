{
 "cells": [
  {
   "cell_type": "code",
   "execution_count": 1,
   "metadata": {
    "ExecuteTime": {
     "end_time": "2019-03-15T17:25:19.358397Z",
     "start_time": "2019-03-15T17:25:18.680972Z"
    }
   },
   "outputs": [],
   "source": [
    "import pandas as pd\n",
    "import numpy as np\n",
    "import matplotlib.pyplot as plt\n",
    "from glob import glob\n",
    "\n",
    "# Add library's path to notebook\n",
    "import os\n",
    "import sys\n",
    "sys.path.append('../../time-series-featurizer/')\n",
    "from ts_featurizer import TimeSeriesFeaturizer\n",
    "%matplotlib inline\n",
    "raw_files = glob('/media/joanes/0BB3-1FA1/CSV_DATA/*.csv')"
   ]
  },
  {
   "cell_type": "code",
   "execution_count": 2,
   "metadata": {
    "ExecuteTime": {
     "end_time": "2019-03-15T17:25:19.375228Z",
     "start_time": "2019-03-15T17:25:19.370751Z"
    }
   },
   "outputs": [],
   "source": [
    "\n",
    "def get_df_list_and_target(files):\n",
    "\t# Get only those values that are available before the analysis\n",
    "\tfilter_cols = ['Total_UnfilledZones', 'Total_FillingQuality', 'TOTAL_QUALITY', 'Total_PorosityQuantity',\n",
    "\t\t\t\t   'Total_PorosityQuality', 'Time']\n",
    "\tdf_list = list()\n",
    "\ttarget = list()\n",
    "\tfor file in files:\n",
    "\t\tdf = pd.read_csv(file)\n",
    "\t\ttarget.append(df.TOTAL_QUALITY.unique()[0])\n",
    "\t\tdf_filtered = df.drop(axis=1, columns=filter_cols)\n",
    "\t\tfilter_col = [col for col in df_filtered if\n",
    "\t\t\t\t\t  not col.endswith(('VoidContent', 'VoidQuality', 'Filling', 'FillingQuality'))]\n",
    "\t\tdf_filtered = df_filtered[filter_col]\n",
    "\t\tdf_list.append(df_filtered)\n",
    "\n",
    "\ttarget = pd.DataFrame(target, columns=['valid'])\n",
    "\treturn df_list, target\n",
    "\n"
   ]
  },
  {
   "cell_type": "code",
   "execution_count": 3,
   "metadata": {
    "ExecuteTime": {
     "end_time": "2019-03-15T17:25:20.462899Z",
     "start_time": "2019-03-15T17:25:20.437965Z"
    }
   },
   "outputs": [],
   "source": [
    "import peakutils\n",
    "from scipy.signal import savgol_filter\n",
    "\n",
    "\n",
    "def get_processed_df_list_and_target(raw_files, start, end):\n",
    "    df_ret = []\n",
    "    df_list, targets = get_df_list_and_target(raw_files[start:end])\n",
    "    for i, data in enumerate(df_list):\n",
    "        flow_rate_filtered = savgol_filter(data['Flow rate'].values, 51, 2)\n",
    "        flow_rate_deriv = np.diff(flow_rate_filtered) * -1\n",
    "        flow_rate = flow_rate_deriv[350:500]\n",
    "        np.place(flow_rate, flow_rate < 0, [0])\n",
    "        indexes = peakutils.indexes(flow_rate, thres=0.08, min_dist=10) + 350\n",
    "        flow_rate = flow_rate_deriv[550:]\n",
    "        np.place(flow_rate, flow_rate < 0, [0])\n",
    "        indexes2 = peakutils.indexes(flow_rate, thres=0.2, min_dist=10) + 550\n",
    "        df_ret.append(data[indexes[0]:indexes2[0]])\n",
    "          \n",
    "\n",
    "    return df_ret, targets"
   ]
  },
  {
   "cell_type": "code",
   "execution_count": null,
   "metadata": {
    "ExecuteTime": {
     "end_time": "2019-03-15T15:06:26.162554Z",
     "start_time": "2019-03-15T15:05:36.539632Z"
    }
   },
   "outputs": [],
   "source": [
    "df_list, target_featurized = get_processed_df_list_and_target(raw_files, 3000, 4000)\n"
   ]
  },
  {
   "cell_type": "code",
   "execution_count": null,
   "metadata": {
    "ExecuteTime": {
     "end_time": "2019-03-15T14:55:25.413038Z",
     "start_time": "2019-03-15T14:55:18.934Z"
    },
    "scrolled": true
   },
   "outputs": [],
   "source": [
    "\n",
    "df_list, target_featurized = get_processed_df_list_and_target(raw_files, 0,100)\n",
    "print('Tseries loaded')\n",
    "\n",
    "\n",
    "tseries = TimeSeriesFeaturizer(check_na=False)\n",
    "model = tseries.featurize(df_list, n_jobs=4)\n"
   ]
  },
  {
   "cell_type": "code",
   "execution_count": null,
   "metadata": {
    "ExecuteTime": {
     "end_time": "2019-03-15T12:12:24.901903Z",
     "start_time": "2019-03-15T12:12:24.855881Z"
    }
   },
   "outputs": [],
   "source": [
    "\n",
    "import pickle\n",
    "\n",
    "filehandler = open('tmp/second_fold/tseries.pickle', 'wb')\n",
    "pickle.dump(tseries, filehandler)\n"
   ]
  },
  {
   "cell_type": "code",
   "execution_count": 4,
   "metadata": {
    "ExecuteTime": {
     "end_time": "2019-03-15T17:25:24.899979Z",
     "start_time": "2019-03-15T17:25:24.855085Z"
    }
   },
   "outputs": [],
   "source": [
    "import pickle\n",
    "with open('tmp/second_fold/tseries.pickle', 'rb') as filehandler:\n",
    "\ttseries = pickle.load(filehandler)\n"
   ]
  },
  {
   "cell_type": "code",
   "execution_count": 5,
   "metadata": {
    "ExecuteTime": {
     "end_time": "2019-03-15T17:49:18.882481Z",
     "start_time": "2019-03-15T17:25:36.570099Z"
    }
   },
   "outputs": [
    {
     "name": "stderr",
     "output_type": "stream",
     "text": [
      "/home/joanes/miniconda3/lib/python3.6/site-packages/scipy/signal/_arraytools.py:45: FutureWarning: Using a non-tuple sequence for multidimensional indexing is deprecated; use `arr[tuple(seq)]` instead of `arr[seq]`. In the future this will be interpreted as an array index, `arr[np.array(seq)]`, which will result either in an error or a different result.\n"
     ]
    },
    {
     "name": "stdout",
     "output_type": "stream",
     "text": [
      "Loaded DataFrame lists len is 1000, from 9000 to 10000\n",
      "\n",
      "\n",
      "-------------------------------------------------- Applying the model started --------------------------------------------------\n"
     ]
    },
    {
     "name": "stderr",
     "output_type": "stream",
     "text": [
      "  0%|          | 0/29 [00:00<?, ?it/s]/home/joanes/miniconda3/lib/python3.6/site-packages/statsmodels/regression/linear_model.py:846: RuntimeWarning: divide by zero encountered in log\n",
      "/home/joanes/miniconda3/lib/python3.6/site-packages/statsmodels/base/model.py:1100: RuntimeWarning: invalid value encountered in true_divide\n",
      " 14%|█▍        | 4/29 [04:15<51:09, 122.79s/it]  /home/joanes/miniconda3/lib/python3.6/site-packages/statsmodels/regression/linear_model.py:846: RuntimeWarning: divide by zero encountered in log\n",
      "/home/joanes/miniconda3/lib/python3.6/site-packages/statsmodels/base/model.py:1100: RuntimeWarning: invalid value encountered in true_divide\n",
      "/home/joanes/miniconda3/lib/python3.6/site-packages/statsmodels/regression/linear_model.py:846: RuntimeWarning: divide by zero encountered in log\n",
      "/home/joanes/miniconda3/lib/python3.6/site-packages/statsmodels/base/model.py:1100: RuntimeWarning: invalid value encountered in true_divide\n",
      " 76%|███████▌  | 22/29 [17:26<03:58, 34.03s/it]/home/joanes/miniconda3/lib/python3.6/site-packages/statsmodels/regression/linear_model.py:846: RuntimeWarning: divide by zero encountered in log\n",
      "/home/joanes/miniconda3/lib/python3.6/site-packages/statsmodels/base/model.py:1100: RuntimeWarning: invalid value encountered in true_divide\n",
      " 86%|████████▌ | 25/29 [21:01<03:01, 45.41s/it]/home/joanes/miniconda3/lib/python3.6/site-packages/statsmodels/regression/linear_model.py:846: RuntimeWarning: divide by zero encountered in log\n",
      "/home/joanes/miniconda3/lib/python3.6/site-packages/statsmodels/base/model.py:1100: RuntimeWarning: invalid value encountered in true_divide\n",
      "100%|██████████| 29/29 [21:44<00:00, 22.44s/it]\n",
      "../../time-series-featurizer/ts_featurizer/base/base.py:155: UserWarning: NaN values have been found while Applying the model, check na_cols attribute to know which columns have NaNs.\n"
     ]
    },
    {
     "name": "stdout",
     "output_type": "stream",
     "text": [
      "Stored the featurized files\n"
     ]
    }
   ],
   "source": [
    "for time in range(10,11):\n",
    "    df_list, target_featurized = get_processed_df_list_and_target(raw_files, (time - 1) * 1_000, time * 1_000)\n",
    "    print(f'Loaded DataFrame lists len is {len(df_list)}, from {(time - 1) * 1_000} to {time * 1_000}')\n",
    "    featurized = tseries.featurize(df_list, n_jobs=4, apply_model=True)\n",
    "    featurized.reset_index(drop=True).to_feather(f'tmp/second_fold/featurized_{time}')\n",
    "    target_featurized.reset_index(drop=True).to_feather(f'tmp/second_fold/target_featurized_{time}')\n",
    "    print('Stored the featurized files')\n"
   ]
  },
  {
   "cell_type": "code",
   "execution_count": null,
   "metadata": {
    "ExecuteTime": {
     "end_time": "2019-03-15T09:17:42.447348Z",
     "start_time": "2019-03-15T09:17:42.444489Z"
    }
   },
   "outputs": [],
   "source": [
    "featurized.shape"
   ]
  }
 ],
 "metadata": {
  "kernelspec": {
   "display_name": "Python 3",
   "language": "python",
   "name": "python3"
  },
  "language_info": {
   "codemirror_mode": {
    "name": "ipython",
    "version": 3
   },
   "file_extension": ".py",
   "mimetype": "text/x-python",
   "name": "python",
   "nbconvert_exporter": "python",
   "pygments_lexer": "ipython3",
   "version": "3.6.6"
  },
  "toc": {
   "base_numbering": 1,
   "nav_menu": {},
   "number_sections": true,
   "sideBar": true,
   "skip_h1_title": false,
   "title_cell": "Table of Contents",
   "title_sidebar": "Contents",
   "toc_cell": false,
   "toc_position": {},
   "toc_section_display": true,
   "toc_window_display": false
  },
  "varInspector": {
   "cols": {
    "lenName": 16,
    "lenType": 16,
    "lenVar": 40
   },
   "kernels_config": {
    "python": {
     "delete_cmd_postfix": "",
     "delete_cmd_prefix": "del ",
     "library": "var_list.py",
     "varRefreshCmd": "print(var_dic_list())"
    },
    "r": {
     "delete_cmd_postfix": ") ",
     "delete_cmd_prefix": "rm(",
     "library": "var_list.r",
     "varRefreshCmd": "cat(var_dic_list()) "
    }
   },
   "types_to_exclude": [
    "module",
    "function",
    "builtin_function_or_method",
    "instance",
    "_Feature"
   ],
   "window_display": false
  }
 },
 "nbformat": 4,
 "nbformat_minor": 2
}
